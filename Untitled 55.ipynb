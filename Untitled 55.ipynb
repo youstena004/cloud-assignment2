{
 "cells": [
  {
   "cell_type": "code",
   "execution_count": 4,
   "id": "692e8f18-f8f1-4795-9d85-b7ef8448541b",
   "metadata": {},
   "outputs": [
    {
     "name": "stdout",
     "output_type": "stream",
     "text": [
      "Requirement already satisfied: pandas in /opt/conda/lib/python3.11/site-packages (2.2.2)\n",
      "Requirement already satisfied: numpy>=1.23.2 in /opt/conda/lib/python3.11/site-packages (from pandas) (1.26.4)\n",
      "Requirement already satisfied: python-dateutil>=2.8.2 in /opt/conda/lib/python3.11/site-packages (from pandas) (2.8.2)\n",
      "Requirement already satisfied: pytz>=2020.1 in /opt/conda/lib/python3.11/site-packages (from pandas) (2023.3.post1)\n",
      "Requirement already satisfied: tzdata>=2022.7 in /opt/conda/lib/python3.11/site-packages (from pandas) (2024.1)\n",
      "Requirement already satisfied: six>=1.5 in /opt/conda/lib/python3.11/site-packages (from python-dateutil>=2.8.2->pandas) (1.16.0)\n",
      "Note: you may need to restart the kernel to use updated packages.\n"
     ]
    }
   ],
   "source": [
    "pip install pandas"
   ]
  },
  {
   "cell_type": "code",
   "execution_count": 5,
   "id": "7415dcea-bced-42be-b491-bc1ffc26ae46",
   "metadata": {},
   "outputs": [
    {
     "name": "stdout",
     "output_type": "stream",
     "text": [
      "                                                title  \\\n",
      "1   Harry Potter and the Sorcerer's Stone (Harry P...   \n",
      "6   Harry Potter and the Prisoner of Azkaban (Harr...   \n",
      "9   Harry Potter and the Chamber of Secrets (Harry...   \n",
      "10  Harry Potter and the Goblet of Fire (Harry Pot...   \n",
      "11  Harry Potter and the Deathly Hallows (Harry Po...   \n",
      "\n",
      "                                    authors  ratings_count  average_rating  \n",
      "1               J.K. Rowling, Mary GrandPré        4602479            4.44  \n",
      "6   J.K. Rowling, Mary GrandPré, Rufus Beck        1832823            4.53  \n",
      "9               J.K. Rowling, Mary GrandPré        1779331            4.37  \n",
      "10              J.K. Rowling, Mary GrandPré        1753043            4.53  \n",
      "11              J.K. Rowling, Mary GrandPré        1746574            4.61  \n",
      "Average rating of Harry Potter books: 4.550000000000001\n"
     ]
    }
   ],
   "source": [
    "import pandas as pd\n",
    "\n",
    "# Load the dataset\n",
    "df = pd.read_csv(\"books.csv\")\n",
    "\n",
    "# Perform data cleaning and preprocessing\n",
    "# Handle missing values\n",
    "df.dropna(inplace=True)\n",
    "\n",
    "# Remove unnecessary columns\n",
    "df.drop(['book_id', 'goodreads_book_id', 'best_book_id', 'work_id', 'isbn', 'isbn13', 'image_url', 'small_image_url'], axis=1, inplace=True)\n",
    "\n",
    "# Filter dataset for Harry Potter series\n",
    "harry_potter_df = df[df['authors'].str.contains('J.K. Rowling') & df['title'].str.contains('Harry Potter')]\n",
    "\n",
    "# Check the filtered dataset\n",
    "harry_potter_df.head()\n",
    "\n",
    "# Find the most selling books within the Harry Potter series\n",
    "most_selling_books = harry_potter_df.sort_values(by='ratings_count', ascending=False).head()\n",
    "\n",
    "# Display the most selling books\n",
    "print(most_selling_books[['title', 'authors', 'ratings_count', 'average_rating']])\n",
    "\n",
    "# Save the most selling books to a CSV file\n",
    "most_selling_books.to_csv(\"harry_potter_best_selling_books.csv\", index=False)\n",
    "\n",
    "# Calculate the average rating of the Harry Potter books\n",
    "average_rating_hp = harry_potter_df['average_rating'].mean()\n",
    "\n",
    "# Display the average rating\n",
    "print(f\"Average rating of Harry Potter books: {average_rating_hp}\")\n"
   ]
  },
  {
   "cell_type": "code",
   "execution_count": null,
   "id": "6a8ae962-a09b-4662-bcbb-f927c6f279a1",
   "metadata": {},
   "outputs": [],
   "source": []
  }
 ],
 "metadata": {
  "kernelspec": {
   "display_name": "Python 3 (ipykernel)",
   "language": "python",
   "name": "python3"
  },
  "language_info": {
   "codemirror_mode": {
    "name": "ipython",
    "version": 3
   },
   "file_extension": ".py",
   "mimetype": "text/x-python",
   "name": "python",
   "nbconvert_exporter": "python",
   "pygments_lexer": "ipython3",
   "version": "3.11.6"
  }
 },
 "nbformat": 4,
 "nbformat_minor": 5
}
